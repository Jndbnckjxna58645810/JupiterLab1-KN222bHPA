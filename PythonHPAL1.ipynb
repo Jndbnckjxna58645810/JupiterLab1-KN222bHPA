{
 "cells": [
  {
   "cell_type": "code",
   "execution_count": 1,
   "id": "228fb633",
   "metadata": {},
   "outputs": [
    {
     "data": {
      "text/html": [
       "<svg xmlns=\"http://www.w3.org/2000/svg\" viewBox=\"0 0 1000 600\" width=\"300\" height=\"180\">\n",
       "    <rect width=\"1000\" height=\"600\" fill=\"#ffffff\"/>\n",
       "    <rect y=\"300\" width=\"1000\" height=\"300\" fill=\"#D7141A\"/>\n",
       "    <polygon points=\"0,0 500,300 0,600\" fill=\"#11457E\"/>\n",
       "    <rect width=\"1000\" height=\"600\" style=\"fill: none; stroke: black;\"/>\n",
       "</svg>\n"
      ],
      "text/plain": [
       "<IPython.core.display.HTML object>"
      ]
     },
     "metadata": {},
     "output_type": "display_data"
    }
   ],
   "source": [
    "%%HTML\n",
    "<svg xmlns=\"http://www.w3.org/2000/svg\" viewBox=\"0 0 1000 600\" width=\"300\" height=\"180\">\n",
    "    <rect width=\"1000\" height=\"600\" fill=\"#ffffff\"/>\n",
    "    <rect y=\"300\" width=\"1000\" height=\"300\" fill=\"#D7141A\"/>\n",
    "    <polygon points=\"0,0 500,300 0,600\" fill=\"#11457E\"/>\n",
    "    <rect width=\"1000\" height=\"600\" style=\"fill: none; stroke: black;\"/>\n",
    "</svg>"
   ]
  },
  {
   "cell_type": "markdown",
   "id": "5dd1af6a",
   "metadata": {},
   "source": [
    "# Czech Republic\n",
    "## General Information\n",
    "**The Czech Republic**, also known as Czechia, is a landlocked country in Central Europe. Historically known as Bohemia, it is bordered by Austria to the south, Germany to the west, Poland to the northeast, and Slovakia to the southeast. The Czech Republic has a hilly landscape that covers an area of 78,871 square kilometers (30,452 sq mi) with a mostly temperate continental and oceanic climate. **The capital and largest city is <span style=\"color: red;\">Prague</span>**; other major cities and urban areas include *Brno, Ostrava, Plzeň and Liberec*.<br>\n",
    "<img src=\"https://upload.wikimedia.org/wikipedia/commons/thumb/2/23/Czech_Rep._-_Bohemia%2C_Moravia_and_Silesia_III_%28en%29.png/1920px-Czech_Rep._-_Bohemia%2C_Moravia_and_Silesia_III_%28en%29.png\" width=\"50%\">\n",
    "## Geography\n",
    "**The area of the Czech Republic is about 78,866 km<sup>2</sup>.**<br>\n",
    "*This country is landlocked but rich in rivers and hills.*\n",
    "Bohemia, to the west, consists of a basin drained by the *Elbe* (Czech: Labe) and the *Vltava* rivers, surrounded by mostly low mountains, such as the Krkonoše range of the Sudetes. The highest point in the country, **Sněžka at *1,603 m* (5,259 ft)**, is located here.\n",
    "Moravia, the eastern part of the country, is also hilly. It is drained mainly by the *Morava River*, but it also contains the source of the *Oder River* (Czech: Odra).\n",
    "Water from the Czech Republic flows to three different seas: *the North Sea, Baltic Sea, and Black Sea*.\n",
    "[View Czech Republic on GoogleMaps.](https://www.google.com/maps/place/Czechia/@49.7980523,14.1559722,8z/data=!3m1!4b1!4m6!3m5!1s0x470b948fd7dd8243:0xf8661c75d3db586f!8m2!3d49.817492!4d15.472962!16zL20vMDFtanE?entry=ttu&g_ep=EgoyMDI0MDkxMS4wIKXMDSoASAFQAw%3D%3D)<br><br>\n",
    "<div style=\"border: 2px solid black; padding: 10px;\">\n",
    "    <h2>Economy</h2>\n",
    "    <p>The Czech Republic has a developed, high-income export-oriented social market economy based in services, manufacturing and innovation, that maintains a welfare state and the European social model. The Czech Republic participates in the European Single Market as a member of the European Union and is therefore a part of the economy of the European Union, but uses its own currency, <b>the Czech koruna</b>, instead of the euro. It has a per capita GDP rate that is 91% of the EU average and is a member of the OECD. Monetary policy is conducted by the Czech National Bank, whose independence is guaranteed by the Constitution. The Czech Republic ranks 12th in the UN inequality-adjusted human development and 24th in World Bank Human Capital Index. It was described by The Guardian as \"one of Europe's most flourishing economies\".</p>\n",
    "</div>\n",
    "\n",
    "## Demographics\n",
    "**The population of the Czech Republic is approximately 10.7 million people.** The main ethnic groups are Czechs, Slovaks, and others. The Czech Republic is *one of the most ethnically homogeneous* countries in Europe.<br>\n",
    "\n",
    "| Nationalty | Percentage |\n",
    "|------|------|\n",
    "| Czechs | 89% |\n",
    "| Moravians | 3.3% |\n",
    "| Slovaks | 0.9% |\n",
    "| Ukrainians | 0.7% |\n",
    "| Other | 2.1% |\n",
    "| 2 nationalties | 4.0% |\n",
    "\n",
    "The total fertility rate (TFR) in 2020 was estimated at *1.71* children per woman, which is below the replacement rate of 2.1. The Czech Republic's population has an *average age of 43.3 years*. The life expectancy in 2021 was estimated to be *79.5 years (76.55 years male, 82.61 years female)*. About *77,000* people immigrate to the Czech Republic annually.\n",
    "\n",
    "## Government Structure\n",
    "The Czech Republic is a **parliamentary republic**, where the president performs mostly ceremonial duties, while power belongs to the parliament and government. *The official language is Czech.*\n",
    "1. President\n",
    "   * Elected for 5 years\n",
    "   * Limited powers\n",
    "2. Parliament\n",
    "   * Bicameral: Senate and Chamber of Deputies\n",
    "3. Government\n",
    "   * Led by the Prime Minister, elected by the parliamentary majority\n",
    "   \n",
    "![Picture](CzechRepublic.png)\n",
    "<br>Coat Of Arms(*modified due to the layout changes in Binder and presence of local file*)\n",
    "\n",
    "## Notable Personalities\n",
    "\n",
    "* Václav Havel — writer and playwright, the first president of the Czech Republic after the fall of communism.\n",
    "* Antonín Dvořák — renowned composer.\n",
    "* Milan Kundera — writer, author of \"The Unbearable Lightness of Being.\"\n",
    "* Jaromír Jágr — legendary hockey player.\n",
    "\n",
    "## Cultural and Natural Landmarks\n",
    "\n",
    "1. Cultural Landmarks:\n",
    "   * Charles Bridge in Prague\n",
    "   * St. Vitus Cathedral\n",
    "2. Natural Landmarks:\n",
    "   * Šumava National Park\n",
    "   * Bohemian Paradise"
   ]
  },
  {
   "cell_type": "code",
   "execution_count": 2,
   "id": "550435e0",
   "metadata": {},
   "outputs": [
    {
     "name": "stdout",
     "output_type": "stream",
     "text": [
      "0 7 -4 3 -5 1 9 10 -8 11 12 0 -18 22\n"
     ]
    },
    {
     "data": {
      "text/plain": [
       "[22, 12, 10, 9, -4, -8, -18]"
      ]
     },
     "execution_count": 2,
     "metadata": {},
     "output_type": "execute_result"
    }
   ],
   "source": [
    "def fun9():  \n",
    "    try:\n",
    "        nums = [int(x) for x in input().split()]\n",
    "    except ValueError:\n",
    "        print('Please, enter valid integers.')\n",
    "    filtered = []\n",
    "    for i in range(len(nums)):\n",
    "        for j in range(2, round(abs(nums[i])**0.5) + 1):\n",
    "            if (nums[i] % j == 0):\n",
    "                filtered.append(nums[i])\n",
    "                break\n",
    "    return sorted(filtered, reverse=True)\n",
    "fun9()"
   ]
  },
  {
   "cell_type": "code",
   "execution_count": null,
   "id": "fd60ffa1",
   "metadata": {},
   "outputs": [],
   "source": []
  }
 ],
 "metadata": {
  "kernelspec": {
   "display_name": "Python 3 (ipykernel)",
   "language": "python",
   "name": "python3"
  },
  "language_info": {
   "codemirror_mode": {
    "name": "ipython",
    "version": 3
   },
   "file_extension": ".py",
   "mimetype": "text/x-python",
   "name": "python",
   "nbconvert_exporter": "python",
   "pygments_lexer": "ipython3",
   "version": "3.11.5"
  }
 },
 "nbformat": 4,
 "nbformat_minor": 5
}
